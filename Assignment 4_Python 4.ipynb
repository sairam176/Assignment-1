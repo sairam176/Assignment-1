{
 "cells": [
  {
   "cell_type": "code",
   "execution_count": 1,
   "metadata": {},
   "outputs": [],
   "source": [
    "# Problem Statement:  PYTHON 4\n",
    "\n",
    "# 1.1. Write a Python Program(with class concepts) to find the area of the triangle using the below formula. \n",
    " \n",
    "# area = (s*(s-a)*(s-b)*(s-c)) ** 0.5 \n",
    " \n",
    "# Function to take the length of the sides of triangle from user should be defined in the parent class and \n",
    "# function to calculate the area should be defined in subclass.\n",
    "\n",
    "class Shape:\n",
    "    def __init__(self, a,b,c):\n",
    "        self.a = a\n",
    "        self.b = b\n",
    "        self.c = c\n",
    "        self.sides=[]\n",
    "    def setsides(self):\n",
    "        self.sides = [self.a,self.b,self.c]\n",
    "        return self.sides\n",
    "class Triangle(Shape):\n",
    "    def __init__(self,a,b,c):\n",
    "        Shape.__init__(self,a,b,c)\n",
    "        super(Triangle,self).__init__(a,b,c)\n",
    "    def findArea(self):\n",
    "        # calculate the semi perimeter\n",
    "        s = (self.a+self.b+self.c)/2\n",
    "        area = (s*(s-self.a)*(s-self.b)*(s-self.c)) ** 0.5\n",
    "        try:\n",
    "            print('The area of the triangle is %0.2f' %area)\n",
    "        except:\n",
    "            print('Incorrect entry, not a triangle when one side is bigger than the other two sides combined')"
   ]
  },
  {
   "cell_type": "code",
   "execution_count": 2,
   "metadata": {},
   "outputs": [
    {
     "name": "stdout",
     "output_type": "stream",
     "text": [
      "Incorrect entry, not a triangle when one side is bigger than the other two sides combined\n"
     ]
    }
   ],
   "source": [
    "# Let's test the function\n",
    "\n",
    "t = Triangle(1,5,2)\n",
    "t.findArea()"
   ]
  },
  {
   "cell_type": "code",
   "execution_count": 5,
   "metadata": {},
   "outputs": [
    {
     "name": "stdout",
     "output_type": "stream",
     "text": [
      "The area of the triangle is 9.92\n"
     ]
    }
   ],
   "source": [
    "# Let's test the function again\n",
    "\n",
    "t = Triangle(5,6,4)\n",
    "t.findArea()"
   ]
  },
  {
   "cell_type": "code",
   "execution_count": 6,
   "metadata": {},
   "outputs": [],
   "source": [
    "# 1.2. Write a function filter_long_words() that takes a list of words and an integer n and returns \n",
    "# the list of words that are longer than n.\n",
    "\n",
    "# Here is the function\n",
    "\n",
    "def wordlen(list):\n",
    "    print('Type an integer')\n",
    "    num=int(input())\n",
    "    print('Words greater than integer: ')\n",
    "    for n in list:\n",
    "        if (len(n))>num:\n",
    "            print(n)"
   ]
  },
  {
   "cell_type": "code",
   "execution_count": 7,
   "metadata": {},
   "outputs": [
    {
     "name": "stdout",
     "output_type": "stream",
     "text": [
      "Type an integer\n",
      "9\n",
      "Words greater than integer: \n",
      "Basketball\n"
     ]
    }
   ],
   "source": [
    "# let's test the fuction\n",
    "\n",
    "list=['Cricket','Basketball','Tennis','Football','Badminton']\n",
    "wordlen(list)"
   ]
  },
  {
   "cell_type": "code",
   "execution_count": 8,
   "metadata": {},
   "outputs": [],
   "source": [
    "# 2.1. Write a Python program using function concept that maps list of words into a list of \n",
    "# integers representing the lengths of the corresponding words.\n",
    "\n",
    "# Hint: If a list [ ab,cde,erty] is passed on to the python function output should come as [2,3,4] \n",
    "# Here 2,3 and 4 are the lengths of the words in the list. \n",
    "\n",
    "# Here is the program\n",
    "\n",
    "def cntltrs():\n",
    "    print('Type a list of words of your choice seperated by comma')\n",
    "    list=[]\n",
    "    length=[]\n",
    "    words=input()\n",
    "    list.append(words.split(','))\n",
    "    for l in list:\n",
    "        for i in l:\n",
    "            length.append(len(i))\n",
    "        print(length)"
   ]
  },
  {
   "cell_type": "code",
   "execution_count": 9,
   "metadata": {},
   "outputs": [
    {
     "name": "stdout",
     "output_type": "stream",
     "text": [
      "Type a list of words of your choice seperated by comma\n",
      "Apple,Banana,Mango,Grapes \n",
      "[5, 6, 5, 7]\n"
     ]
    }
   ],
   "source": [
    "# Let's test the program\n",
    "\n",
    "cntltrs()"
   ]
  },
  {
   "cell_type": "code",
   "execution_count": 10,
   "metadata": {},
   "outputs": [],
   "source": [
    "# 2.2. Write a Python function which takes a character (i.e. a string of length 1) and \n",
    "# returns True if it is a vowel, False otherwise.\n",
    "\n",
    "# Here is the function that identifis if the given letter is an Vowel\n",
    "\n",
    "def identifyletter():\n",
    "    print('Type a letter of your choice')\n",
    "    string=input()\n",
    "    vowels='a','e','i','o','u','A','E','I','O','U'\n",
    "    for v in vowels:\n",
    "        if v==string:\n",
    "            print(True)\n",
    "            print(string,\"is a vowel\")\n",
    "            break\n",
    "    else:\n",
    "        print(False)\n",
    "        print(string,\"is not a vowel\")"
   ]
  },
  {
   "cell_type": "code",
   "execution_count": 13,
   "metadata": {},
   "outputs": [
    {
     "name": "stdout",
     "output_type": "stream",
     "text": [
      "Type a letter of your choice\n",
      "o\n",
      "True\n",
      "o is a vowel\n"
     ]
    }
   ],
   "source": [
    "# Let's test the function\n",
    "\n",
    "identifyletter()"
   ]
  },
  {
   "cell_type": "code",
   "execution_count": 14,
   "metadata": {},
   "outputs": [
    {
     "name": "stdout",
     "output_type": "stream",
     "text": [
      "Type a letter of your choice\n",
      "S\n",
      "False\n",
      "S is not a vowel\n"
     ]
    }
   ],
   "source": [
    "# Let's test the function again\n",
    "\n",
    "identifyletter()"
   ]
  }
 ],
 "metadata": {
  "kernelspec": {
   "display_name": "Python 3",
   "language": "python",
   "name": "python3"
  },
  "language_info": {
   "codemirror_mode": {
    "name": "ipython",
    "version": 3
   },
   "file_extension": ".py",
   "mimetype": "text/x-python",
   "name": "python",
   "nbconvert_exporter": "python",
   "pygments_lexer": "ipython3",
   "version": "3.7.0"
  }
 },
 "nbformat": 4,
 "nbformat_minor": 2
}
