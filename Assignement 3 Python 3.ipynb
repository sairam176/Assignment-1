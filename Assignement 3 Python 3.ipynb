{
 "cells": [
  {
   "cell_type": "code",
   "execution_count": 6,
   "metadata": {},
   "outputs": [],
   "source": [
    "# 3. Assignment  PYTHON 3\n",
    "# 1.1. Write a Python Program to implement your own myreduce() function \n",
    "# which works exactly like Python's built-in function reduce()\n",
    "\n",
    "# Let me create a function that takes the list iteration\n",
    "def myreduce(func,lst):\n",
    "    finalvalue=lst[0]\n",
    "    for val in lst[1:]:\n",
    "        finalvalue=func(finalvalue,val)\n",
    "    return finalvalue\n",
    "\n",
    "#Let me define a function to add numbers\n",
    "def addnmbrs(x,y):\n",
    "    c=x+y\n",
    "    return c\n",
    "\n",
    "# Let me define a function to multiply numbers\n",
    "def mltplynmbrs(x,y):\n",
    "    c=x*y\n",
    "    return c"
   ]
  },
  {
   "cell_type": "code",
   "execution_count": 11,
   "metadata": {},
   "outputs": [],
   "source": [
    "# Let's create a list to perform above myreduce function\n",
    "\n",
    "list1 = [1,2,3,5,6]"
   ]
  },
  {
   "cell_type": "code",
   "execution_count": 12,
   "metadata": {},
   "outputs": [
    {
     "data": {
      "text/plain": [
       "17"
      ]
     },
     "execution_count": 12,
     "metadata": {},
     "output_type": "execute_result"
    }
   ],
   "source": [
    "# Using myreduce() function to add numbers from the list\n",
    "\n",
    "myreduce(addnmbrs,list1)"
   ]
  },
  {
   "cell_type": "code",
   "execution_count": 13,
   "metadata": {},
   "outputs": [
    {
     "data": {
      "text/plain": [
       "180"
      ]
     },
     "execution_count": 13,
     "metadata": {},
     "output_type": "execute_result"
    }
   ],
   "source": [
    "# Using myreduce() function to multiply numbers from the list\n",
    "\n",
    "myreduce(mltplynmbrs,list1)        "
   ]
  },
  {
   "cell_type": "code",
   "execution_count": 16,
   "metadata": {},
   "outputs": [],
   "source": [
    "# 1.2. Write a Python program to implement your own myfilter() function\n",
    "#  which works exactly like Python's built-in function filter()\n",
    "\n",
    "# Let's define a function similar filter()\n",
    "def myfilter(func,lst):\n",
    "    output=[]\n",
    "    for i in lst:\n",
    "        if (func(i)):\n",
    "            output.append(i)\n",
    "    return output\n",
    "\n",
    "# Let's define a criteria that filters numbers that are less than or\n",
    "# equal to 5 in a list\n",
    "def func_filter(num):\n",
    "    if (num <=5):\n",
    "        return True"
   ]
  },
  {
   "cell_type": "code",
   "execution_count": 17,
   "metadata": {},
   "outputs": [],
   "source": [
    "# Let's create a list to perform above myfilter function\n",
    "\n",
    "list2 = [8,2,9,10,1,3,0,4]"
   ]
  },
  {
   "cell_type": "code",
   "execution_count": 18,
   "metadata": {},
   "outputs": [
    {
     "data": {
      "text/plain": [
       "[2, 1, 3, 0, 4]"
      ]
     },
     "execution_count": 18,
     "metadata": {},
     "output_type": "execute_result"
    }
   ],
   "source": [
    "# Using myfilter() function that filters numbers that are less than or\n",
    "# equal to 5 for the list\n",
    "\n",
    "myfilter(func_filter,list2)"
   ]
  },
  {
   "cell_type": "code",
   "execution_count": 19,
   "metadata": {},
   "outputs": [
    {
     "name": "stdout",
     "output_type": "stream",
     "text": [
      "['A', 'C', 'A', 'D', 'G', 'I', 'L', 'D']\n",
      "['x', 'xx', 'xxx', 'xxxx', 'y', 'yy', 'yyy', 'yyyy', 'z', 'zz', 'zzz', 'zzzz']\n",
      "['x', 'y', 'z', 'xx', 'yy', 'zz', 'xxx', 'yyy', 'zzz', 'xxxx', 'yyyy', 'zzzz']\n",
      "[[[2], [3], [4], [3], [4], [5], [4], [5], [6]], [[2, 3, 4, 5], [3, 4, 5, 6], [4, 5, 6, 7], [5, 6, 7, 8]]]\n",
      "[(1, 1), (2, 1), (3, 1), (1, 2), (2, 2), (3, 2), (1, 3), (2, 3), (3, 3)]\n"
     ]
    }
   ],
   "source": [
    "# 2. Implement list comprehensions to produce the following lists\n",
    "# Write list comprehensions to produce the following lists\n",
    "\n",
    "# ['A', 'C', 'A', 'D', 'G', 'I', 'L', 'D']\n",
    "\n",
    "word = \"ACADGILD\"\n",
    "alphabet_list = [ alphabet for alphabet in word ]\n",
    "print (\"\"+str(alphabet_list))\n",
    "\n",
    "# ['x','xx','xxx','xxxx','y','yy','yyy','yyyy,'z','zz','zzz','zzzz']\n",
    "\n",
    "list3 = ['x','y','z']\n",
    "result = [ item*num for item in list3 for num in range(1,5) ]\n",
    "print(\"\"+str(result))\n",
    "\n",
    "# ['x','y','z','xx','yy','zz','xxx','yyy','zzz','xxxx','yyyy','zzzz']\n",
    "\n",
    "result = [ item*num for num in range(1,5) for item in list3]+[ item*num for num in range(3,3) for item in list3]\n",
    "print(\"\"+str(result))\n",
    "\n",
    "# [[2],[3],[4,],[3],[4],[5],[4],[5],[6]][2,3,4,5],[3,4,5,6],[4,5,6,7],[5,6,7,8]\n",
    "\n",
    "list4 = [2,3,4]\n",
    "list5 = [2,3,4,5]\n",
    "result = [[ [item+num] for item in list4 for num in range(0,3)]]+[[[item+num for item in list5] for num in range(0,4)]]\n",
    "print(\"\"+str(result))\n",
    "\n",
    "# [(1,1),(2,1),(3,1),(1,2),(2,2),(3,2),(1,3),(2,3),(3,3)]\n",
    "\n",
    "list6 = [1,2,3]\n",
    "result = [(b,a) for a in list6 for b in list6]\n",
    "print(\"\"+str(result))"
   ]
  },
  {
   "cell_type": "code",
   "execution_count": 20,
   "metadata": {},
   "outputs": [
    {
     "data": {
      "text/plain": [
       "'DATASCIENCE'"
      ]
     },
     "execution_count": 20,
     "metadata": {},
     "output_type": "execute_result"
    }
   ],
   "source": [
    "# 3. Implement a function LongestWord() that takes a list of\n",
    "# words and returns the longest one\n",
    "\n",
    "# Let's write a program that tells us the longest word from the given words list\n",
    "def find_longest_word(words_list):\n",
    "    word_len = []\n",
    "    for n in words_list:\n",
    "        word_len.append((len(n),n))\n",
    "    word_len.sort()\n",
    "    return word_len[-1][1]\n",
    "\n",
    "# Let's create a list of words and run the above program\n",
    "listwords=['DATASCIENCE','ACADGILD','UNIVERSITY','ASSESSMENT']\n",
    "\n",
    "# Let's run the program\n",
    "find_longest_word(listwords)"
   ]
  }
 ],
 "metadata": {
  "kernelspec": {
   "display_name": "Python 3",
   "language": "python",
   "name": "python3"
  },
  "language_info": {
   "codemirror_mode": {
    "name": "ipython",
    "version": 3
   },
   "file_extension": ".py",
   "mimetype": "text/x-python",
   "name": "python",
   "nbconvert_exporter": "python",
   "pygments_lexer": "ipython3",
   "version": "3.7.0"
  }
 },
 "nbformat": 4,
 "nbformat_minor": 2
}
