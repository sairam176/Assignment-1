{
 "cells": [
  {
   "cell_type": "code",
   "execution_count": 2,
   "metadata": {},
   "outputs": [
    {
     "name": "stdout",
     "output_type": "stream",
     "text": [
      "Type a sequence of coma-separated numbers: 0,1,7,6\n",
      "List :  ['0', '1', '7', '6']\n"
     ]
    }
   ],
   "source": [
    "# 2. Assignment  PYTHON 2\n",
    "\n",
    "# 1. Write a program which accepts a sequence of comma-separated numbers from console and generate a list.\n",
    "\n",
    "# Here is the program\n",
    "\n",
    "values = input('Type a sequence of coma-separated numbers: ')\n",
    "list = values.split(\",\")\n",
    "print('List : ',list)"
   ]
  },
  {
   "cell_type": "code",
   "execution_count": 5,
   "metadata": {},
   "outputs": [
    {
     "name": "stdout",
     "output_type": "stream",
     "text": [
      "Enter the maximum asterics to be displayed in the middle row: 5\n",
      "* \n",
      "* * \n",
      "* * * \n",
      "* * * * \n",
      "* * * * * \n",
      "* * * * \n",
      "* * * \n",
      "* * \n",
      "* \n",
      "\n"
     ]
    }
   ],
   "source": [
    "# 2. Create the below pattern using nested for loop in Python. \n",
    " \n",
    "# *\n",
    "# * *\n",
    "# * * *\n",
    "# * * * *\n",
    "# * * * * *\n",
    "# * * * *\n",
    "# * * *\n",
    "# * *\n",
    "# * \n",
    "\n",
    "# Here is the program that uses nested for loop to print asterics in the given pattern\n",
    "\n",
    "rows = (int(input(\"Enter the maximum asterics to be displayed in the middle row: \")))\n",
    "for i in range (0, rows):\n",
    "    for j in range(0, i + 1):\n",
    "        print(\"*\", end=' ')\n",
    "    print(\"\\r\")\n",
    "\n",
    "for i in range (rows, 0, -1):\n",
    "    for j in range(0, i -1):\n",
    "        print(\"*\", end=' ')\n",
    "    print(\"\\r\")"
   ]
  },
  {
   "cell_type": "code",
   "execution_count": 6,
   "metadata": {},
   "outputs": [
    {
     "name": "stdout",
     "output_type": "stream",
     "text": [
      "Type a word of your choice and press Enter : AcadGild\n",
      "The given word in reverse order is : dliGdacA \n"
     ]
    }
   ],
   "source": [
    "# 3. Write a Python program to reverse a word after accepting the input from the user. Sample Output: \n",
    " \n",
    "# Input word: AcadGild \n",
    " \n",
    "# Output: dilGdacA \n",
    "\n",
    "# Here is the program that prints the given word in reverse order\n",
    "\n",
    "Word= input(\"Type a word of your choice and press Enter : \")\n",
    "print ('The given word in reverse order is :',Word[::-1],\"\",)"
   ]
  },
  {
   "cell_type": "code",
   "execution_count": 7,
   "metadata": {},
   "outputs": [
    {
     "name": "stdout",
     "output_type": "stream",
     "text": [
      "WE, THE PEOPLE OF INDIA, \n",
      "      having solemnly resolved to constitute India into a SOVEREIGN, ! \n",
      "\t     SOCIALIST, SECULAR, DEMOCRATIC \n",
      "\t      REPUBLIC and to secure to all its citizens\n"
     ]
    }
   ],
   "source": [
    "# 4. Write a Python Program to print the given string in the format specified in the sample output. \n",
    " \n",
    "# WE, THE PEOPLE OF INDIA, having solemnly resolved to constitute India into a SOVEREIGN, SOCIALIST, SECULAR, DEMOCRATIC REPUBLIC and to secure to all its citizens \n",
    " \n",
    "# Sample Output: \n",
    " \n",
    "# WE, THE PEOPLE OF INDIA, \n",
    "#       having solemnly resolved to constitute India into a SOVEREIGN, !     \n",
    "#        SOCIALIST, SECULAR, DEMOCRATIC\n",
    "#         REPUBLIC and to secure to all its citizens \n",
    "\n",
    "# Here is the program thta uses strings to print the above statement (given in sample input) in the \"Sampel out put\" format\n",
    "\n",
    "string1=str('WE, THE PEOPLE OF INDIA,')\n",
    "string2=str('having solemnly resolved to constitute India into a SOVEREIGN,')\n",
    "string3=str('SOCIALIST, SECULAR, DEMOCRATIC')\n",
    "string4=str('REPUBLIC and to secure to all its citizens')\n",
    "print(string1,\"\\n\",\" \"*4,string2,\"!\",\"\\n\\t\",\" \"*3,string3,\"\\n\\t\",\" \"*4,string4)"
   ]
  }
 ],
 "metadata": {
  "kernelspec": {
   "display_name": "Python 3",
   "language": "python",
   "name": "python3"
  },
  "language_info": {
   "codemirror_mode": {
    "name": "ipython",
    "version": 3
   },
   "file_extension": ".py",
   "mimetype": "text/x-python",
   "name": "python",
   "nbconvert_exporter": "python",
   "pygments_lexer": "ipython3",
   "version": "3.7.0"
  }
 },
 "nbformat": 4,
 "nbformat_minor": 2
}
